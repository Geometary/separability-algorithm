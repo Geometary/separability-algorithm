{
 "cells": [
  {
   "cell_type": "code",
   "execution_count": null,
   "id": "0a9bd5ee",
   "metadata": {},
   "outputs": [],
   "source": [
    "%matplotlib inline\n",
    "import time\n",
    "\n",
    "time.sleep(3)"
   ]
  },
  {
   "cell_type": "markdown",
   "id": "372129cf",
   "metadata": {},
   "source": [
    "# This is a level 1 heading\n",
    "\n",
    "## Code test 001\n",
    "\n",
    "* This is the start of a list.\n",
    "* And the list is still going.\n",
    "\n",
    "And of course this is a `code_snippet()`.\n",
    "Or if you prefer, a\n",
    "```\n",
    "code_block()\n",
    "```"
   ]
  },
  {
   "cell_type": "code",
   "execution_count": null,
   "id": "701c53df",
   "metadata": {},
   "outputs": [],
   "source": [
    "print(\"Thank you for reading!\")"
   ]
  }
 ],
 "metadata": {
  "kernelspec": {
   "display_name": "Python 3 (ipykernel)",
   "language": "python",
   "name": "python3"
  },
  "language_info": {
   "codemirror_mode": {
    "name": "ipython",
    "version": 3
   },
   "file_extension": ".py",
   "mimetype": "text/x-python",
   "name": "python",
   "nbconvert_exporter": "python",
   "pygments_lexer": "ipython3",
   "version": "3.7.2"
  }
 },
 "nbformat": 4,
 "nbformat_minor": 5
}
